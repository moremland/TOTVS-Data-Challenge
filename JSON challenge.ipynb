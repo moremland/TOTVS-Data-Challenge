{
 "cells": [
  {
   "cell_type": "code",
   "execution_count": 24,
   "metadata": {},
   "outputs": [
    {
     "name": "stdout",
     "output_type": "stream",
     "text": [
      "JSON 2.0.9\n",
      "pandas 0.24.2\n",
      "numpy 1.16.0\n",
      "sklearn 0.19.2\n"
     ]
    }
   ],
   "source": [
    "### Author: Matthew Oremland\n",
    "\n",
    "# import necessary packages\n",
    "import json\n",
    "print 'JSON', json.__version__\n",
    "\n",
    "import pandas as pd\n",
    "print 'pandas', pd.__version__\n",
    "import numpy as np\n",
    "print 'numpy', np.__version__\n",
    "import sklearn\n",
    "print 'sklearn', sklearn.__version__\n",
    "from sklearn.linear_model import LogisticRegression\n",
    "from sklearn.model_selection import train_test_split\n",
    "from sklearn.ensemble import RandomForestClassifier"
   ]
  },
  {
   "cell_type": "code",
   "execution_count": 2,
   "metadata": {},
   "outputs": [],
   "source": [
    "# Read data, cast as pandas DataFrame\n",
    "with open('challenge.json') as json_file:  \n",
    "    raw_data = json.load(json_file)\n",
    "\n",
    "data = pd.DataFrame(raw_data)"
   ]
  },
  {
   "cell_type": "code",
   "execution_count": 3,
   "metadata": {},
   "outputs": [
    {
     "name": "stdout",
     "output_type": "stream",
     "text": [
      "Removing branch_id - no variation.\n"
     ]
    }
   ],
   "source": [
    "# Remove data with no variation; it cannot be used in any meaningful way. For this analysis, also remove date data\n",
    "remove_list = []\n",
    "for var in data.columns.tolist():\n",
    "    if len(data[var].unique()) == 1:\n",
    "        print 'Removing', var, '- no variation.'\n",
    "        remove_list.append(var)\n",
    "data = data.drop(columns=remove_list+['register_date'])"
   ]
  },
  {
   "cell_type": "code",
   "execution_count": 4,
   "metadata": {},
   "outputs": [],
   "source": [
    "# create dummy variables for categorical variables\n",
    "category_vars = ['segment_code', 'sales_channel', 'group_code']\n",
    "for cvar in category_vars:\n",
    "    dummy_list = pd.get_dummies(data[cvar], prefix=cvar)\n",
    "    data = data.join(dummy_list)\n",
    "data = data.drop(columns=category_vars)"
   ]
  },
  {
   "cell_type": "code",
   "execution_count": 5,
   "metadata": {},
   "outputs": [],
   "source": [
    "# Define X and y data sets; separate into train and test sets\n",
    "all_vars, yvar = data.columns.tolist(), 'is_churn'\n",
    "X = data[[v for v in all_vars if v != yvar]]\n",
    "y = data[[yvar]]\n",
    "X_train, X_test, y_train, y_test = train_test_split(X, y, test_size=0.1)"
   ]
  },
  {
   "cell_type": "code",
   "execution_count": 8,
   "metadata": {},
   "outputs": [
    {
     "name": "stdout",
     "output_type": "stream",
     "text": [
      "Zero classifier model score: 0.809\n"
     ]
    }
   ],
   "source": [
    "# establish baseline naive model for comparison: zero model predicts 0 for each entry\n",
    "churn_data = data[yvar]\n",
    "churn_vals = [float(c) for c in churn_data.tolist() if c != None]\n",
    "zero_model_score = round(1 - sum(churn_vals)/float(len(churn_vals)), 3)\n",
    "print 'Zero classifier model score:', zero_model_score"
   ]
  },
  {
   "cell_type": "code",
   "execution_count": 9,
   "metadata": {},
   "outputs": [
    {
     "name": "stdout",
     "output_type": "stream",
     "text": [
      "total_price score improvement on zero model: 0.011\n",
      "unit_price score improvement on zero model: -0.007\n",
      "item_total_price score improvement on zero model: -0.001\n",
      "quantity score improvement on zero model: -0.001\n",
      "sales_channel score improvement on zero model: 0.068\n",
      "segment_code score improvement on zero model: 0.114\n",
      "group_code score improvement on zero model: 0.115\n",
      "overall model score improvement on zero model: 0.114\n"
     ]
    }
   ],
   "source": [
    "# run logistic regressions individually and overall\n",
    "# display scores of models on test set\n",
    "quant_vars = ['total_price', 'unit_price', 'item_total_price', 'quantity']\n",
    "category_vars = ['sales_channel', 'segment_code', 'group_code']\n",
    "LogReg = LogisticRegression()\n",
    "for qv in quant_vars:\n",
    "    logisticModel = LogReg.fit(X_train[[qv]], y_train.values.ravel())\n",
    "    print qv, 'score improvement on zero model:', round(logisticModel.score(X_test[[qv]], y_test), 3) - zero_model_score\n",
    "for cv in category_vars:\n",
    "    pars = [v for v in X_train.columns.tolist() if cv in v]\n",
    "    logisticModel = LogReg.fit(X_train[pars], y_train.values.ravel())\n",
    "    print cv, 'score improvement on zero model:', round(logisticModel.score(X_test[pars], y_test), 3) - zero_model_score\n",
    "logisticModel = LogReg.fit(X_train, y_train.values.ravel())\n",
    "print 'overall model score improvement on zero model:', round(logisticModel.score(X_test, y_test), 3) - zero_model_score"
   ]
  },
  {
   "cell_type": "code",
   "execution_count": 21,
   "metadata": {},
   "outputs": [
    {
     "name": "stderr",
     "output_type": "stream",
     "text": [
      "C:\\Users\\matthew.oremland\\Downloads\\WinPython-32bit-2.7.13.1Zero\\python-2.7.13\\lib\\site-packages\\ipykernel_launcher.py:3: DataConversionWarning: A column-vector y was passed when a 1d array was expected. Please change the shape of y to (n_samples,), for example using ravel().\n",
      "  This is separate from the ipykernel package so we can avoid doing imports until\n"
     ]
    },
    {
     "name": "stdout",
     "output_type": "stream",
     "text": [
      "Random Forest score improvement on zero model: 0.148\n"
     ]
    }
   ],
   "source": [
    "# Build a Random Forest Classifier model and determine the score on the test set\n",
    "RF = RandomForestClassifier(n_estimators=100, max_depth=10, random_state=0)\n",
    "RF.fit(X_train, y_train)\n",
    "print 'Random Forest score improvement on zero model:', round(RF.score(X_test, y_test), 3) - zero_model_score"
   ]
  }
 ],
 "metadata": {
  "kernelspec": {
   "display_name": "Python 2",
   "language": "python",
   "name": "python2"
  },
  "language_info": {
   "codemirror_mode": {
    "name": "ipython",
    "version": 2
   },
   "file_extension": ".py",
   "mimetype": "text/x-python",
   "name": "python",
   "nbconvert_exporter": "python",
   "pygments_lexer": "ipython2",
   "version": "2.7.13"
  }
 },
 "nbformat": 4,
 "nbformat_minor": 2
}
